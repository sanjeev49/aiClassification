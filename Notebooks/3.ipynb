{
 "cells": [
  {
   "cell_type": "code",
   "execution_count": 2,
   "metadata": {},
   "outputs": [],
   "source": [
    "import os \n",
    "root_dir = os.getcwd()\n",
    "artifacts_dir = os.path.join(root_dir, \"artifacts\")\n",
    "data_dir = os.path.join(artifacts_dir, \"data_dir\")\n",
    "\n",
    "X = os.path.join(data_dir, \"X.pickle\")\n",
    "y = os.path.join(data_dir, \"y.pickle\")"
   ]
  },
  {
   "cell_type": "code",
   "execution_count": 3,
   "metadata": {},
   "outputs": [
    {
     "name": "stdout",
     "output_type": "stream",
     "text": [
      "True\n"
     ]
    }
   ],
   "source": [
    "challenge_dir = os.path.join(root_dir, \"Multilabel\")\n",
    "img_dir = os.path.join(challenge_dir, \"photos\")\n",
    "print(os.path.exists(img_dir))"
   ]
  },
  {
   "cell_type": "code",
   "execution_count": 4,
   "metadata": {},
   "outputs": [],
   "source": [
    "#from keras.applications.vgg16 import decode_predictions\n",
    "from keras.applications.regnet import preprocess_input\n",
    "import tensorflow as tf\n",
    "from keras.utils import load_img\n",
    "import matplotlib.pyplot as plt \n",
    "from PIL import Image \n",
    "import seaborn as sns\n",
    "import pandas as pd \n",
    "import numpy as np \n",
    "import os \n",
    "from tensorflow.keras.models import Sequential\n",
    "#tf.keras.utils.img_to_array \n",
    "from tensorflow.keras.utils import img_to_array\n",
    "from tensorflow.keras.layers import Dense\n",
    "from tensorflow.keras import layers\n",
    "from tensorflow.keras import Input\n",
    "from tensorflow.keras.models import Model\n",
    "tf.data.experimental.enable_debug_mode()"
   ]
  },
  {
   "cell_type": "code",
   "execution_count": 5,
   "metadata": {},
   "outputs": [],
   "source": [
    "#X = pickle.load(open(X, \"rb\"))\n",
    "import pickle\n",
    "y = pickle.load(open(y, \"rb\"))"
   ]
  },
  {
   "cell_type": "code",
   "execution_count": 22,
   "metadata": {},
   "outputs": [
    {
     "ename": "NameError",
     "evalue": "name 'df' is not defined",
     "output_type": "error",
     "traceback": [
      "\u001b[1;31m---------------------------------------------------------------------------\u001b[0m",
      "\u001b[1;31mNameError\u001b[0m                                 Traceback (most recent call last)",
      "\u001b[1;32mc:\\Users\\sanjeev\\Documents\\aiclassification\\3.ipynb Cell 5\u001b[0m in \u001b[0;36m<cell line: 1>\u001b[1;34m()\u001b[0m\n\u001b[1;32m----> <a href='vscode-notebook-cell:/c%3A/Users/sanjeev/Documents/aiclassification/3.ipynb#ch0000019?line=0'>1</a>\u001b[0m df\n",
      "\u001b[1;31mNameError\u001b[0m: name 'df' is not defined"
     ]
    }
   ],
   "source": []
  },
  {
   "cell_type": "code",
   "execution_count": 6,
   "metadata": {},
   "outputs": [],
   "source": [
    "raw_data = []\n",
    "\n",
    "def _load_image(img_dir):\n",
    "    for num, img in enumerate(os.listdir(img_dir)):\n",
    "        img_path = os.path.join(img_dir, img)\n",
    "        im = load_img(img_path, target_size = (224, 224,3))\n",
    "        im = img_to_array(im)\n",
    "        #im  = np.expand_dims(im, axis =0)\n",
    "        #print(im.shape)\n",
    "        im = preprocess_input(im)\n",
    "        #print(im.shape)\n",
    "        raw_data.append([im, [y[num][0], y[num][1], y[num][2],y[num][3]]])\n",
    "\n",
    "\n",
    "_load_image(img_dir)\n",
    "\n"
   ]
  },
  {
   "cell_type": "code",
   "execution_count": 7,
   "metadata": {},
   "outputs": [],
   "source": [
    "X = []\n",
    "y = []\n",
    "for i,data in enumerate(raw_data):\n",
    "    X.append(raw_data[i][0])\n",
    "    y.append(raw_data[i][1])"
   ]
  },
  {
   "cell_type": "code",
   "execution_count": 8,
   "metadata": {},
   "outputs": [],
   "source": [
    "y = np.array(y)\n",
    "X = np.array(X)"
   ]
  },
  {
   "cell_type": "code",
   "execution_count": 9,
   "metadata": {},
   "outputs": [],
   "source": [
    "a,b,c, d = [], [] , [], []\n",
    "for i in y:\n",
    "    a.append(i[0]), b.append(i[1]), c.append(i[2]), d.append(i[3])"
   ]
  },
  {
   "cell_type": "code",
   "execution_count": 10,
   "metadata": {},
   "outputs": [],
   "source": [
    "a = np.array(a)\n",
    "b = np.array(b)\n",
    "c = np.array(c)\n",
    "d = np.array(d)"
   ]
  },
  {
   "cell_type": "code",
   "execution_count": 11,
   "metadata": {},
   "outputs": [],
   "source": [
    "model1 = Sequential()\n",
    "\n",
    "# 1st layer as the lumpsum weights from resnet50_weights_tf_dim_ordering_tf_kernels_notop.h5\n",
    "# NOTE that this layer will be set below as NOT TRAINABLE, i.e., use it as is\n",
    "model1.add( tf.keras.applications.ResNet50(include_top = False, pooling = 'avg', weights = 'imagenet', input_shape=(224, 224, 3)))\n",
    "\n",
    "# 2nd layer as Dense for 2-class classification, i.e., dog or cat using SoftMax activation\n",
    "model1.add(Dense(1, activation = 'sigmoid'))\n",
    "\n",
    "# Say not to train first layer (ResNet) model as it is already trained\n",
    "model1.layers[0].trainable = False\n",
    "\n",
    "model1.compile(loss=tf.keras.losses.BinaryCrossentropy(from_logits=True), optimizer='adam', metrics=tf.keras.metrics.BinaryAccuracy())"
   ]
  },
  {
   "cell_type": "code",
   "execution_count": 36,
   "metadata": {},
   "outputs": [],
   "source": [
    "from keras import layers\n",
    "from keras import Input\n",
    "resnet_base = tf.keras.applications.ResNet50(include_top = False, pooling = 'avg', weights = 'imagenet')\n",
    "for layer in resnet_base.layers:\n",
    "    layer.trainable = False\n",
    "xinput = Input(shape=(224, 224, 3))\n",
    "inpu = resnet_base(xinput)\n",
    "\n",
    "\n",
    "prediction1 = layers.Dense(1, activation='sigmoid', name='a')(inpu)\n",
    "prediction2 = layers.Dense(1, activation='sigmoid', name='b')(inpu)\n",
    "prediction3 = layers.Dense(1, activation='sigmoid', name='c')(inpu)\n",
    "prediction4 = layers.Dense(1, activation='sigmoid', name='d')(inpu)\n",
    "\n",
    "\n",
    "\n"
   ]
  },
  {
   "cell_type": "code",
   "execution_count": 13,
   "metadata": {},
   "outputs": [],
   "source": [
    "model = Model(xinput,[prediction1, prediction2, prediction3, prediction4])"
   ]
  },
  {
   "cell_type": "code",
   "execution_count": 14,
   "metadata": {},
   "outputs": [
    {
     "name": "stdout",
     "output_type": "stream",
     "text": [
      "Model: \"model\"\n",
      "__________________________________________________________________________________________________\n",
      " Layer (type)                   Output Shape         Param #     Connected to                     \n",
      "==================================================================================================\n",
      " input_3 (InputLayer)           [(None, 224, 224, 3  0           []                               \n",
      "                                )]                                                                \n",
      "                                                                                                  \n",
      " resnet50 (Functional)          (None, 2048)         23587712    ['input_3[0][0]']                \n",
      "                                                                                                  \n",
      " a (Dense)                      (None, 1)            2049        ['resnet50[0][0]']               \n",
      "                                                                                                  \n",
      " b (Dense)                      (None, 1)            2049        ['resnet50[0][0]']               \n",
      "                                                                                                  \n",
      " c (Dense)                      (None, 1)            2049        ['resnet50[0][0]']               \n",
      "                                                                                                  \n",
      " d (Dense)                      (None, 1)            2049        ['resnet50[0][0]']               \n",
      "                                                                                                  \n",
      "==================================================================================================\n",
      "Total params: 23,595,908\n",
      "Trainable params: 8,196\n",
      "Non-trainable params: 23,587,712\n",
      "__________________________________________________________________________________________________\n"
     ]
    }
   ],
   "source": [
    "model.summary()"
   ]
  },
  {
   "cell_type": "code",
   "execution_count": 15,
   "metadata": {},
   "outputs": [],
   "source": [
    "model.compile(loss = [\"binary_crossentropy\", \"binary_crossentropy\",\"binary_crossentropy\",\"binary_crossentropy\"], optimizer=\"adam\")"
   ]
  },
  {
   "cell_type": "code",
   "execution_count": 20,
   "metadata": {},
   "outputs": [
    {
     "name": "stdout",
     "output_type": "stream",
     "text": [
      "Epoch 1/2\n",
      "31/31 [==============================] - 56s 2s/step - loss: 3.6359e-04 - a_loss: 8.4373e-05 - b_loss: 9.4289e-05 - c_loss: 1.0519e-04 - d_loss: 7.9740e-05\n",
      "Epoch 2/2\n",
      "31/31 [==============================] - 58s 2s/step - loss: 3.0398e-04 - a_loss: 7.1624e-05 - b_loss: 7.9338e-05 - c_loss: 8.8107e-05 - d_loss: 6.4908e-05\n"
     ]
    },
    {
     "data": {
      "text/plain": [
       "<keras.callbacks.History at 0x1db6940dd00>"
      ]
     },
     "execution_count": 20,
     "metadata": {},
     "output_type": "execute_result"
    }
   ],
   "source": [
    "model.fit(X, [a,b,c,d], epochs=2)"
   ]
  },
  {
   "cell_type": "code",
   "execution_count": 17,
   "metadata": {},
   "outputs": [],
   "source": [
    "im = load_img(r\"Multilabel\\photos\\image_005.jpg\", target_size = (224, 224,3))\n",
    "im = img_to_array(im)\n",
    "        #im  = np.expand_dims(im, axis =0)\n",
    "        #print(im.shape)\n",
    "im = preprocess_input(im)"
   ]
  },
  {
   "cell_type": "code",
   "execution_count": 18,
   "metadata": {},
   "outputs": [],
   "source": [
    "im = im.reshape(1, im.shape[0], im.shape[1],3)"
   ]
  },
  {
   "cell_type": "code",
   "execution_count": 19,
   "metadata": {},
   "outputs": [
    {
     "name": "stdout",
     "output_type": "stream",
     "text": [
      "1/1 [==============================] - 1s 888ms/step\n"
     ]
    },
    {
     "data": {
      "text/plain": [
       "[array([[0.9994757]], dtype=float32),\n",
       " array([[0.999961]], dtype=float32),\n",
       " array([[7.905688e-05]], dtype=float32),\n",
       " array([[0.00011136]], dtype=float32)]"
      ]
     },
     "execution_count": 19,
     "metadata": {},
     "output_type": "execute_result"
    }
   ],
   "source": [
    "model.predict(im)"
   ]
  },
  {
   "cell_type": "code",
   "execution_count": 23,
   "metadata": {},
   "outputs": [],
   "source": [
    "\n",
    "root_dir = os.getcwd()\n",
    "artifacts_dir = os.path.join(root_dir, \"artifacts\")\n",
    "prepared_data_dir = os.path.join(artifacts_dir , \"prepared\")\n",
    "clenaed_csv  = os.path.join(prepared_data_dir, \"cleaned.csv\")\n",
    "\n",
    "raw_data_dir = os.path.join(root_dir, \"Multilabel\")\n",
    "raw_label_file = os.path.join(raw_data_dir, \"labels.txt\")\n",
    "raw_img_dir = os.path.join(raw_data_dir, \"photos\")\n"
   ]
  },
  {
   "cell_type": "code",
   "execution_count": 25,
   "metadata": {},
   "outputs": [],
   "source": [
    "df = pd.read_csv(clenaed_csv)"
   ]
  },
  {
   "cell_type": "code",
   "execution_count": 32,
   "metadata": {},
   "outputs": [
    {
     "data": {
      "text/html": [
       "<div>\n",
       "<style scoped>\n",
       "    .dataframe tbody tr th:only-of-type {\n",
       "        vertical-align: middle;\n",
       "    }\n",
       "\n",
       "    .dataframe tbody tr th {\n",
       "        vertical-align: top;\n",
       "    }\n",
       "\n",
       "    .dataframe thead th {\n",
       "        text-align: right;\n",
       "    }\n",
       "</style>\n",
       "<table border=\"1\" class=\"dataframe\">\n",
       "  <thead>\n",
       "    <tr style=\"text-align: right;\">\n",
       "      <th></th>\n",
       "      <th>a</th>\n",
       "      <th>b</th>\n",
       "      <th>c</th>\n",
       "      <th>d</th>\n",
       "    </tr>\n",
       "  </thead>\n",
       "  <tbody>\n",
       "    <tr>\n",
       "      <th>0</th>\n",
       "      <td>1.0</td>\n",
       "      <td>1.0</td>\n",
       "      <td>0.0</td>\n",
       "      <td>1.0</td>\n",
       "    </tr>\n",
       "    <tr>\n",
       "      <th>1</th>\n",
       "      <td>1.0</td>\n",
       "      <td>0.0</td>\n",
       "      <td>0.0</td>\n",
       "      <td>0.0</td>\n",
       "    </tr>\n",
       "    <tr>\n",
       "      <th>2</th>\n",
       "      <td>1.0</td>\n",
       "      <td>1.0</td>\n",
       "      <td>0.0</td>\n",
       "      <td>0.0</td>\n",
       "    </tr>\n",
       "    <tr>\n",
       "      <th>3</th>\n",
       "      <td>1.0</td>\n",
       "      <td>1.0</td>\n",
       "      <td>0.0</td>\n",
       "      <td>0.0</td>\n",
       "    </tr>\n",
       "    <tr>\n",
       "      <th>4</th>\n",
       "      <td>1.0</td>\n",
       "      <td>1.0</td>\n",
       "      <td>0.0</td>\n",
       "      <td>0.0</td>\n",
       "    </tr>\n",
       "  </tbody>\n",
       "</table>\n",
       "</div>"
      ],
      "text/plain": [
       "     a    b    c    d\n",
       "0  1.0  1.0  0.0  1.0\n",
       "1  1.0  0.0  0.0  0.0\n",
       "2  1.0  1.0  0.0  0.0\n",
       "3  1.0  1.0  0.0  0.0\n",
       "4  1.0  1.0  0.0  0.0"
      ]
     },
     "execution_count": 32,
     "metadata": {},
     "output_type": "execute_result"
    }
   ],
   "source": [
    "df.head()"
   ]
  },
  {
   "cell_type": "code",
   "execution_count": null,
   "metadata": {},
   "outputs": [],
   "source": []
  }
 ],
 "metadata": {
  "kernelspec": {
   "display_name": "Python 3.8.13 ('deep_learning')",
   "language": "python",
   "name": "python3"
  },
  "language_info": {
   "codemirror_mode": {
    "name": "ipython",
    "version": 3
   },
   "file_extension": ".py",
   "mimetype": "text/x-python",
   "name": "python",
   "nbconvert_exporter": "python",
   "pygments_lexer": "ipython3",
   "version": "3.8.13"
  },
  "orig_nbformat": 4,
  "vscode": {
   "interpreter": {
    "hash": "291713af647146e04ac219d946794240e5391d23bed4a06bbd169cf4cac42e79"
   }
  }
 },
 "nbformat": 4,
 "nbformat_minor": 2
}
